{
 "cells": [
  {
   "cell_type": "code",
   "execution_count": 2,
   "metadata": {},
   "outputs": [
    {
     "name": "stdout",
     "output_type": "stream",
     "text": [
      "Enter number of inputs in chart : 6\n",
      "23\n",
      "32\n",
      "435\n",
      "465\n",
      "453\n",
      "232\n",
      "[1, 2, 3, 4, 5, 6] [23, 32, 435, 465, 453, 232]\n",
      "x axis ranges from -2 to 12\n",
      "y axis ranges from -2 to 475\n"
     ]
    },
    {
     "data": {
      "image/png": "[encoded data removed]",
      "text/plain": [
       "<Figure size 432x288 with 1 Axes>"
      ]
     },
     "metadata": {
      "needs_background": "light"
     },
     "output_type": "display_data"
    },
    {
     "name": "stdout",
     "output_type": "stream",
     "text": [
      "max of line chart is at pos 4 with value of 465\n"
     ]
    }
   ],
   "source": [
    "import matplotlib.pyplot as plt \n",
    "# creating an empty list \n",
    "y = [] \n",
    "\n",
    "# number of elemetns as input \n",
    "total = int(input(\"Enter number of inputs in chart : \")) \n",
    "total = total +1\n",
    "x=[*range(1,total,1)]\n",
    "\n",
    "# iterating till the range to get y-axis datas \n",
    "for i in range(1, total): \n",
    "    ele = int(input()) \n",
    "\n",
    "    y.append(ele) # adding the element \n",
    "\n",
    "#x =[1, 2, 3, 4, 5, 6, 7, 8,9]\n",
    "#y=[2, 4, 6, 8, 9, 8, 7, 6, 5]\n",
    "print(x,y)\n",
    "\n",
    "z=y.index(max(y))\n",
    "z=z+1\n",
    "#print(z)\n",
    "x1 = [z] \n",
    "y1 =max(y)\n",
    "\n",
    "\n",
    "plt.plot(x, y,color='black', linestyle='dashed', linewidth = 3, marker='.', markerfacecolor='yellow', markersize=14) \n",
    "plt.plot(x1, y1,marker='^', markerfacecolor='red', markersize=16) \n",
    "###plt.subplot(x1,y1)\n",
    "\n",
    "#print(type(y1))\n",
    "#print(y1)\n",
    "\n",
    "# setting x and y axis range \n",
    "\n",
    "\n",
    "if min(y) < 0:\n",
    "    ymin = min(y) - 3\n",
    "else:\n",
    "    ymin = -2\n",
    "\n",
    "ymax = y1+10\n",
    "xmax = total + 5\n",
    "plt.ylim(ymin,ymax) \n",
    "plt.xlim(-2,xmax) \n",
    "\n",
    "print(f\"x axis ranges from -2 to {xmax}\")\n",
    "print(f\"y axis ranges from {ymin} to {ymax}\")\n",
    "\n",
    "\n",
    "plt.xlabel('x - axis') \n",
    "plt.ylabel('y-axi with first occurence of peak value') \n",
    "\n",
    "plt.title('Max of line chart') \n",
    "\n",
    "plt.show() \n",
    "print(f\"max of line chart is at pos {z} with value of {max(y)}\")\n",
    "\n",
    "\n"
   ]
  },
  {
   "cell_type": "code",
   "execution_count": null,
   "metadata": {},
   "outputs": [],
   "source": []
  }
 ],
 "metadata": {
  "kernelspec": {
   "display_name": "Python 3",
   "language": "python",
   "name": "python3"
  },
  "language_info": {
   "codemirror_mode": {
    "name": "ipython",
    "version": 3
   },
   "file_extension": ".py",
   "mimetype": "text/x-python",
   "name": "python",
   "nbconvert_exporter": "python",
   "pygments_lexer": "ipython3",
   "version": "3.7.6"
  }
 },
 "nbformat": 4,
 "nbformat_minor": 4
}
